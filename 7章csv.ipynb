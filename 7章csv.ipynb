{
  "nbformat": 4,
  "nbformat_minor": 0,
  "metadata": {
    "colab": {
      "name": "7章csv.ipynb",
      "provenance": [],
      "collapsed_sections": [],
      "mount_file_id": "1Kz0-aTsCPJoh1jomHOqfFVT1ImfEzxwZ",
      "authorship_tag": "ABX9TyMQTzg0jI0j+nqojeQUadsB",
      "include_colab_link": true
    },
    "kernelspec": {
      "name": "python3",
      "display_name": "Python 3"
    },
    "language_info": {
      "name": "python"
    }
  },
  "cells": [
    {
      "cell_type": "markdown",
      "metadata": {
        "id": "view-in-github",
        "colab_type": "text"
      },
      "source": [
        "<a href=\"https://colab.research.google.com/github/melonpanfriend/calendar-test/blob/master/7%E7%AB%A0csv.ipynb\" target=\"_parent\"><img src=\"https://colab.research.google.com/assets/colab-badge.svg\" alt=\"Open In Colab\"/></a>"
      ]
    },
    {
      "cell_type": "code",
      "metadata": {
        "colab": {
          "base_uri": "https://localhost:8080/"
        },
        "id": "TLMmsjAWusND",
        "outputId": "24eaee75-8e28-4f7e-a5c3-f08c13dac716"
      },
      "source": [
        "from google.colab import drive\n",
        "drive.mount('/content/drive')"
      ],
      "execution_count": 1,
      "outputs": [
        {
          "output_type": "stream",
          "name": "stdout",
          "text": [
            "Drive already mounted at /content/drive; to attempt to forcibly remount, call drive.mount(\"/content/drive\", force_remount=True).\n"
          ]
        }
      ]
    },
    {
      "cell_type": "code",
      "metadata": {
        "id": "7kL3xa_pSlhT"
      },
      "source": [
        "#リスト7-2-1\n",
        "import csv\n",
        "fpath = '/content/drive/MyDrive/colab Notebooks/sampleCSV.csv'"
      ],
      "execution_count": 2,
      "outputs": []
    },
    {
      "cell_type": "code",
      "metadata": {
        "id": "8OiwTd1C_B5X",
        "colab": {
          "base_uri": "https://localhost:8080/"
        },
        "outputId": "498c5416-4d61-4539-f164-1137b2b41880"
      },
      "source": [
        "#リスト7-3-1\n",
        "try:\n",
        "  with open(fpath, mode='r') as f:\n",
        "    r = csv.reader(f)\n",
        "    for row in r:\n",
        "      print(row)\n",
        "except Exception as ex:\n",
        "  print('ERROR!')"
      ],
      "execution_count": 7,
      "outputs": [
        {
          "output_type": "stream",
          "name": "stdout",
          "text": [
            "['氏名', '国語', '数学', '理科', '社会', '英語']\n",
            "['東京太郎', '98', '65', '70', '82', '97']\n",
            "['大阪花子', '67', '89', '93', '70', '65']\n",
            "['鹿児島幸子', '84', '92', '88', '81', '79']\n",
            "['千葉次郎', '75', '73', '81', '97', '69']\n",
            "['秋田薫', '59', '48', '54', '62', '99']\n",
            "['ユーザー 25', '91', '76', '35', '83', '15']\n",
            "['ユーザー 73', '70', '92', '20', '88', '47']\n",
            "['ユーザー 37', '81', '53', '43', '7', '39']\n",
            "['ユーザー 0', '37', '52', '40', '88', '43']\n"
          ]
        }
      ]
    },
    {
      "cell_type": "code",
      "metadata": {
        "id": "H_inp7VgF6Hg",
        "colab": {
          "base_uri": "https://localhost:8080/"
        },
        "outputId": "c0b07bd6-411b-4638-b39c-022e85d64569"
      },
      "source": [
        "#リスト7-4-1\n",
        "from random import randrange\n",
        "\n",
        "data = [\n",
        "  'ユーザー ' + str(randrange(100)),\n",
        "  randrange(100),\n",
        "  randrange(100),\n",
        "  randrange(100),\n",
        "  randrange(100),\n",
        "  randrange(100)\n",
        "]\n",
        "\n",
        "try:\n",
        "  with open(fpath, mode='a') as f:\n",
        "    w = csv.writer(f)\n",
        "    w.writerow(data)\n",
        "    print('write random data!')\n",
        "except Exception as ex:\n",
        "  print('ERROR!')"
      ],
      "execution_count": 6,
      "outputs": [
        {
          "output_type": "stream",
          "name": "stdout",
          "text": [
            "write random data!\n"
          ]
        }
      ]
    }
  ]
}