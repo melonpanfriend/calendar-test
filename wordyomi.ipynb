{
  "nbformat": 4,
  "nbformat_minor": 0,
  "metadata": {
    "colab": {
      "name": "wordyomi.ipynb",
      "provenance": [],
      "collapsed_sections": [],
      "mount_file_id": "1QUTyqSOYVs2-BCw23s7LpCz-TJYGx2Io",
      "authorship_tag": "ABX9TyOBpOlQWlqPHwxPHvIIp7Kq",
      "include_colab_link": true
    },
    "kernelspec": {
      "name": "python3",
      "display_name": "Python 3"
    },
    "language_info": {
      "name": "python"
    }
  },
  "cells": [
    {
      "cell_type": "markdown",
      "metadata": {
        "id": "view-in-github",
        "colab_type": "text"
      },
      "source": [
        "<a href=\"https://colab.research.google.com/github/melonpanfriend/calendar-test/blob/master/wordyomi.ipynb\" target=\"_parent\"><img src=\"https://colab.research.google.com/assets/colab-badge.svg\" alt=\"Open In Colab\"/></a>"
      ]
    },
    {
      "cell_type": "code",
      "metadata": {
        "id": "V1OQwQdLBARl",
        "colab": {
          "base_uri": "https://localhost:8080/"
        },
        "outputId": "4e052bcd-9a28-43b0-f0ca-59fb2ba47e64"
      },
      "source": [
        "%pip install python-docx"
      ],
      "execution_count": 8,
      "outputs": [
        {
          "output_type": "stream",
          "name": "stdout",
          "text": [
            "Requirement already satisfied: python-docx in /usr/local/lib/python3.7/dist-packages (0.8.11)\n",
            "Requirement already satisfied: lxml>=2.3.2 in /usr/local/lib/python3.7/dist-packages (from python-docx) (4.2.6)\n"
          ]
        }
      ]
    },
    {
      "cell_type": "code",
      "metadata": {
        "id": "5N0C-B1nBfxo"
      },
      "source": [
        "from google.colab import drive\n",
        "drive.mount('/content/drive')"
      ],
      "execution_count": null,
      "outputs": []
    },
    {
      "cell_type": "code",
      "metadata": {
        "colab": {
          "base_uri": "https://localhost:8080/"
        },
        "id": "QHVegaG6CWO9",
        "outputId": "6eb72a62-090f-4988-bc98-3b5f115d7793"
      },
      "source": [
        "%pwd\n",
        "% cd /content/drive/MyDrive/colab Notebooks/"
      ],
      "execution_count": 16,
      "outputs": [
        {
          "output_type": "stream",
          "name": "stdout",
          "text": [
            "/content/drive/MyDrive/colab Notebooks\n"
          ]
        }
      ]
    },
    {
      "cell_type": "code",
      "metadata": {
        "id": "co2wV7k9kOkf"
      },
      "source": [
        "%pip list\n"
      ],
      "execution_count": null,
      "outputs": []
    },
    {
      "cell_type": "code",
      "metadata": {
        "id": "JFnpavuQA3kR",
        "colab": {
          "base_uri": "https://localhost:8080/"
        },
        "outputId": "3279c57d-4266-46c7-89fa-be0d334cbf8a"
      },
      "source": [
        "# Wordドキュメントから段落を取り出す\n",
        "\n",
        "import docx               # python-docxをインポート\n",
        "doc = docx.Document(\"サンプル文書.docx\")\n",
        "len(doc.paragraphs)       # paragraphsの要素数を調べる"
      ],
      "execution_count": 17,
      "outputs": [
        {
          "output_type": "execute_result",
          "data": {
            "text/plain": [
              "4"
            ]
          },
          "metadata": {},
          "execution_count": 17
        }
      ]
    },
    {
      "cell_type": "code",
      "metadata": {
        "id": "4X-Ap9s5A3kp",
        "colab": {
          "base_uri": "https://localhost:8080/",
          "height": 42
        },
        "outputId": "63efbb01-e4f9-4756-86cc-0153794d4e4f"
      },
      "source": [
        "doc.paragraphs[0].text    # 1番目の段落のテキストを取り出す"
      ],
      "execution_count": 18,
      "outputs": [
        {
          "output_type": "execute_result",
          "data": {
            "application/vnd.google.colaboratory.intrinsic+json": {
              "type": "string"
            },
            "text/plain": [
              "'Pythonの特徴'"
            ]
          },
          "metadata": {},
          "execution_count": 18
        }
      ]
    },
    {
      "cell_type": "code",
      "metadata": {
        "id": "NV_z8ChjA3kv",
        "outputId": "80b7559d-5fdb-4614-8b4f-8e722646da55"
      },
      "source": [
        "doc.paragraphs[1].text    # 2番目の段落のテキストを取り出す"
      ],
      "execution_count": null,
      "outputs": [
        {
          "data": {
            "text/plain": [
              "'Pythonのソースコードの書き方は、オブジェクト指向、命令型、手続き型、関数型などの形式に対応していますので、状況に応じて使い分けることができます。'"
            ]
          },
          "execution_count": 3,
          "metadata": {},
          "output_type": "execute_result"
        }
      ]
    },
    {
      "cell_type": "code",
      "metadata": {
        "id": "Ogrm-9tSA3kz",
        "outputId": "908fe89b-9f3b-4d05-e987-7169a0efcbca"
      },
      "source": [
        "doc.paragraphs[2].text    # 3番目の段落のテキストを取り出す"
      ],
      "execution_count": null,
      "outputs": [
        {
          "data": {
            "text/plain": [
              "'オブジェクト指向を使えばより高度なプログラミングを行えますが、命令型、手続き型、関数型は名前こそ異なりますが、プログラムを書くための基本なので、まずはこれらの書き方を学んでからオブジェクト指向に進むのが一般的です。'"
            ]
          },
          "execution_count": 4,
          "metadata": {},
          "output_type": "execute_result"
        }
      ]
    },
    {
      "cell_type": "code",
      "metadata": {
        "id": "I8unYzztA3k3",
        "outputId": "22410339-3918-4c36-e288-6f5e7ae951c7"
      },
      "source": [
        "doc.paragraphs[3].text    # 4番目の段落のテキストを取り出す"
      ],
      "execution_count": null,
      "outputs": [
        {
          "data": {
            "text/plain": [
              "'Pythonの用途は広く、PC上で動作する一般的なアプリケーションの開発から、Webアプリ、ゲーム、画像処理をはじめとする各種自動処理に使われる一方、統計分析、AI（人工知能）開発のためのディープラーニング（深層学習）の分野で多く利用されています。'"
            ]
          },
          "execution_count": 5,
          "metadata": {},
          "output_type": "execute_result"
        }
      ]
    },
    {
      "cell_type": "code",
      "metadata": {
        "id": "2uGVxgqJA3k7",
        "outputId": "f6c87e75-08b7-472e-8504-45942605c0fb"
      },
      "source": [
        "# Wordドキュメントの2つ目の段落からRunオブジェクトを取り出す\n",
        "\n",
        "import docx\n",
        "doc = docx.Document('サンプル文書.docx')\n",
        "len(doc.paragraphs[1].runs)       # 第2段落のRunオブジェクトの数を取得"
      ],
      "execution_count": null,
      "outputs": [
        {
          "data": {
            "text/plain": [
              "6"
            ]
          },
          "execution_count": 6,
          "metadata": {},
          "output_type": "execute_result"
        }
      ]
    }
  ]
}